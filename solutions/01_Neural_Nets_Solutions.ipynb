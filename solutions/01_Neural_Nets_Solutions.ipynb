{
 "cells": [
  {
   "cell_type": "markdown",
   "id": "07227b8d-ac80-4cfc-99e9-b3853cb59f83",
   "metadata": {},
   "source": [
    "# Neural Nets Solutions\n",
    "# SOLUTIONS"
   ]
  },
  {
   "cell_type": "markdown",
   "id": "662e64cc-49a8-4608-96c9-2399aed08f9c",
   "metadata": {},
   "source": [
    "## 🥊 Challenge 1: Applying regression to MNIST\n",
    "\n",
    "Think about our MNIST dataset.\n",
    "\n",
    "1. What values are stored in `x_train`, `x_val`, and `x_test`?\n",
    "2. What values are stored in `y_train`, `y_val`, and `y_test`?\n",
    "3. How would you write a linear regression equation to predict the number written for each image?\n",
    "\n",
    "Answers:\n",
    "\n",
    "1. x_train, x_val, and x_test data store training, validation, and test subsets of the total (or subsetted total) MNIST dataset. It specifically stores the input values, a matrix corresponding to a 28x28 pixel image.\n",
    "2. y_train, y_val, and y_test store the category labels for each image.\n",
    "3. If each row and column were an explanatory variable:\n",
    "\n",
    "$$\\hat y = \\beta_{row}X_{row} + \\beta_{column}X_{column} + b$$\n",
    "\n",
    "You could also (and will in this workshop) assign each pixel a unique number:\n",
    "\n",
    "$$\\hat y = \\beta_{pixel}X_{pixel}+ b$$"
   ]
  },
  {
   "cell_type": "markdown",
   "id": "7bb69aae-4888-4155-b819-6abdd7f6a5a7",
   "metadata": {},
   "source": [
    "## 🥊 Challenge 2: Improving our model\n",
    "\n",
    "Let's see if you can improve our model accuracy using the techniques above. \n",
    "\n",
    "1. Build and compile your own neural network\n",
    "2. Plot the accuracy of your network\n",
    "\n",
    "Can you get an accuracy above our original model?"
   ]
  },
  {
   "cell_type": "markdown",
   "id": "0f357cb7-372e-4427-9923-8b8ac26c0295",
   "metadata": {},
   "source": [
    "Model with three hidden layers and 512 nodes per hidden layer:"
   ]
  },
  {
   "cell_type": "code",
   "execution_count": null,
   "id": "344eb4e5-bb09-4cf9-9cfc-813ef61714db",
   "metadata": {},
   "outputs": [],
   "source": [
    "my_network = Sequential()\n",
    "my_network.add(Dense(512, activation= \"relu\", input_shape=(28*28,)))\n",
    "my_network.add(Dense(512, activation= \"relu\"))\n",
    "my_network.add(Dense(512, activation= \"relu\"))\n",
    "my_network.add(Dense(10, activation=\"softmax\"))\n",
    "\n",
    "my_network.compile(optimizer = 'rmsprop', \n",
    "                     loss = 'categorical_crossentropy',\n",
    "                     metrics = ['accuracy'])\n",
    "\n",
    "history_my_network = my_network.fit(x_train_trans, \n",
    "                            y_train_trans, \n",
    "                            epochs=20, \n",
    "                            batch_size=128, \n",
    "                            validation_data=(x_val_trans, y_val_trans))\n",
    "\n",
    "plot_epoch_accuracy(my_network.history)"
   ]
  },
  {
   "cell_type": "markdown",
   "id": "61bc9c02-e3d4-4c9a-b2b5-9d2b59ce4aac",
   "metadata": {},
   "source": [
    "## 🥊 Challenge 3: Improving our model\n",
    "\n",
    "We've now seen four different methods for improving model performance. \n",
    "\n",
    "1. Build and compile your own neural network using all of the improvement techniques we've discussed. Can you surpass your model performance from Challenge 2?\n",
    "2. Visualize your model accuracy"
   ]
  },
  {
   "cell_type": "markdown",
   "id": "4c5b4e6d-8008-4590-b816-a1fc1692eb7e",
   "metadata": {},
   "source": [
    "Adding dropout:"
   ]
  },
  {
   "cell_type": "code",
   "execution_count": null,
   "id": "7bb2b8e9-8656-4144-9474-428a9f301dea",
   "metadata": {},
   "outputs": [],
   "source": [
    "my_network = Sequential()\n",
    "my_network.add(Dense(512, activation= \"relu\", input_shape=(28*28,)))\n",
    "my_network.add(Dropout(0.3))\n",
    "my_network.add(Dense(512, activation= \"relu\"))\n",
    "my_network.add(Dropout(0.3))\n",
    "my_network.add(Dense(512, activation= \"relu\"))\n",
    "my_network.add(Dropout(0.3))\n",
    "my_network.add(Dense(10, activation=\"softmax\"))\n",
    "\n",
    "my_network.compile(optimizer = 'rmsprop', \n",
    "                     loss = 'categorical_crossentropy',\n",
    "                     metrics = ['accuracy'])\n",
    "\n",
    "history_my_network = my_network.fit(x_train_trans, \n",
    "                            y_train_trans, \n",
    "                            epochs=20, \n",
    "                            batch_size=128, \n",
    "                            validation_data=(x_val_trans, y_val_trans))"
   ]
  }
 ],
 "metadata": {
  "kernelspec": {
   "display_name": "Python 3 (ipykernel)",
   "language": "python",
   "name": "python3"
  },
  "language_info": {
   "codemirror_mode": {
    "name": "ipython",
    "version": 3
   },
   "file_extension": ".py",
   "mimetype": "text/x-python",
   "name": "python",
   "nbconvert_exporter": "python",
   "pygments_lexer": "ipython3",
   "version": "3.11.11"
  }
 },
 "nbformat": 4,
 "nbformat_minor": 5
}
